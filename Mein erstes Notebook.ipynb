{
 "cells": [
  {
   "cell_type": "markdown",
   "metadata": {
    "slideshow": {
     "slide_type": "-"
    }
   },
   "source": [
    "# Mein erstes Notebook\n",
    "### Analytics/Visualisierung\n"
   ]
  },
  {
   "attachments": {},
   "cell_type": "markdown",
   "metadata": {},
   "source": [
    "Laden der benötigten Pakete. "
   ]
  },
  {
   "cell_type": "code",
   "execution_count": 173,
   "metadata": {
    "scrolled": true
   },
   "outputs": [],
   "source": [
    "library(data.table)\n",
    "library(tidyverse)"
   ]
  },
  {
   "cell_type": "markdown",
   "metadata": {},
   "source": [
    "Zunächst lesen wir den Datensatz ein."
   ]
  },
  {
   "cell_type": "code",
   "execution_count": 177,
   "metadata": {},
   "outputs": [],
   "source": [
    "Hotel <-fread(\"Datensätze BigData/hotel_bookings.csv\")"
   ]
  },
  {
   "cell_type": "markdown",
   "metadata": {},
   "source": [
    "Um den Datensatz zu analysieren, müssen wir uns einen Überblick verschaffen. Dazu schauen wir uns die ersten Zeilen des Datensatzes an."
   ]
  },
  {
   "cell_type": "code",
   "execution_count": 165,
   "metadata": {},
   "outputs": [
    {
     "data": {
      "text/html": [
       "<table>\n",
       "<thead><tr><th scope=col>hotel</th><th scope=col>is_canceled</th><th scope=col>lead_time</th><th scope=col>arrival_date_year</th><th scope=col>arrival_date_month</th><th scope=col>arrival_date_week_number</th><th scope=col>arrival_date_day_of_month</th><th scope=col>stays_in_weekend_nights</th><th scope=col>stays_in_week_nights</th><th scope=col>adults</th><th scope=col>...</th><th scope=col>deposit_type</th><th scope=col>agent</th><th scope=col>company</th><th scope=col>days_in_waiting_list</th><th scope=col>customer_type</th><th scope=col>adr</th><th scope=col>required_car_parking_spaces</th><th scope=col>total_of_special_requests</th><th scope=col>reservation_status</th><th scope=col>reservation_status_date</th></tr></thead>\n",
       "<tbody>\n",
       "\t<tr><td>Resort Hotel</td><td>0           </td><td>342         </td><td>2015        </td><td>July        </td><td>27          </td><td>1           </td><td>0           </td><td>0           </td><td>2           </td><td>...         </td><td>No Deposit  </td><td>NULL        </td><td>NULL        </td><td>0           </td><td>Transient   </td><td> 0          </td><td>0           </td><td>0           </td><td>Check-Out   </td><td>2015-07-01  </td></tr>\n",
       "\t<tr><td>Resort Hotel</td><td>0           </td><td>737         </td><td>2015        </td><td>July        </td><td>27          </td><td>1           </td><td>0           </td><td>0           </td><td>2           </td><td>...         </td><td>No Deposit  </td><td>NULL        </td><td>NULL        </td><td>0           </td><td>Transient   </td><td> 0          </td><td>0           </td><td>0           </td><td>Check-Out   </td><td>2015-07-01  </td></tr>\n",
       "\t<tr><td>Resort Hotel</td><td>0           </td><td>  7         </td><td>2015        </td><td>July        </td><td>27          </td><td>1           </td><td>0           </td><td>1           </td><td>1           </td><td>...         </td><td>No Deposit  </td><td>NULL        </td><td>NULL        </td><td>0           </td><td>Transient   </td><td>75          </td><td>0           </td><td>0           </td><td>Check-Out   </td><td>2015-07-02  </td></tr>\n",
       "\t<tr><td>Resort Hotel</td><td>0           </td><td> 13         </td><td>2015        </td><td>July        </td><td>27          </td><td>1           </td><td>0           </td><td>1           </td><td>1           </td><td>...         </td><td>No Deposit  </td><td>304         </td><td>NULL        </td><td>0           </td><td>Transient   </td><td>75          </td><td>0           </td><td>0           </td><td>Check-Out   </td><td>2015-07-02  </td></tr>\n",
       "\t<tr><td>Resort Hotel</td><td>0           </td><td> 14         </td><td>2015        </td><td>July        </td><td>27          </td><td>1           </td><td>0           </td><td>2           </td><td>2           </td><td>...         </td><td>No Deposit  </td><td>240         </td><td>NULL        </td><td>0           </td><td>Transient   </td><td>98          </td><td>0           </td><td>1           </td><td>Check-Out   </td><td>2015-07-03  </td></tr>\n",
       "\t<tr><td>Resort Hotel</td><td>0           </td><td> 14         </td><td>2015        </td><td>July        </td><td>27          </td><td>1           </td><td>0           </td><td>2           </td><td>2           </td><td>...         </td><td>No Deposit  </td><td>240         </td><td>NULL        </td><td>0           </td><td>Transient   </td><td>98          </td><td>0           </td><td>1           </td><td>Check-Out   </td><td>2015-07-03  </td></tr>\n",
       "</tbody>\n",
       "</table>\n"
      ],
      "text/latex": [
       "\\begin{tabular}{r|llllllllllllllllllllllllllllllll}\n",
       " hotel & is\\_canceled & lead\\_time & arrival\\_date\\_year & arrival\\_date\\_month & arrival\\_date\\_week\\_number & arrival\\_date\\_day\\_of\\_month & stays\\_in\\_weekend\\_nights & stays\\_in\\_week\\_nights & adults & ... & deposit\\_type & agent & company & days\\_in\\_waiting\\_list & customer\\_type & adr & required\\_car\\_parking\\_spaces & total\\_of\\_special\\_requests & reservation\\_status & reservation\\_status\\_date\\\\\n",
       "\\hline\n",
       "\t Resort Hotel & 0            & 342          & 2015         & July         & 27           & 1            & 0            & 0            & 2            & ...          & No Deposit   & NULL         & NULL         & 0            & Transient    &  0           & 0            & 0            & Check-Out    & 2015-07-01  \\\\\n",
       "\t Resort Hotel & 0            & 737          & 2015         & July         & 27           & 1            & 0            & 0            & 2            & ...          & No Deposit   & NULL         & NULL         & 0            & Transient    &  0           & 0            & 0            & Check-Out    & 2015-07-01  \\\\\n",
       "\t Resort Hotel & 0            &   7          & 2015         & July         & 27           & 1            & 0            & 1            & 1            & ...          & No Deposit   & NULL         & NULL         & 0            & Transient    & 75           & 0            & 0            & Check-Out    & 2015-07-02  \\\\\n",
       "\t Resort Hotel & 0            &  13          & 2015         & July         & 27           & 1            & 0            & 1            & 1            & ...          & No Deposit   & 304          & NULL         & 0            & Transient    & 75           & 0            & 0            & Check-Out    & 2015-07-02  \\\\\n",
       "\t Resort Hotel & 0            &  14          & 2015         & July         & 27           & 1            & 0            & 2            & 2            & ...          & No Deposit   & 240          & NULL         & 0            & Transient    & 98           & 0            & 1            & Check-Out    & 2015-07-03  \\\\\n",
       "\t Resort Hotel & 0            &  14          & 2015         & July         & 27           & 1            & 0            & 2            & 2            & ...          & No Deposit   & 240          & NULL         & 0            & Transient    & 98           & 0            & 1            & Check-Out    & 2015-07-03  \\\\\n",
       "\\end{tabular}\n"
      ],
      "text/markdown": [
       "\n",
       "| hotel | is_canceled | lead_time | arrival_date_year | arrival_date_month | arrival_date_week_number | arrival_date_day_of_month | stays_in_weekend_nights | stays_in_week_nights | adults | ... | deposit_type | agent | company | days_in_waiting_list | customer_type | adr | required_car_parking_spaces | total_of_special_requests | reservation_status | reservation_status_date |\n",
       "|---|---|---|---|---|---|---|---|---|---|---|---|---|---|---|---|---|---|---|---|---|\n",
       "| Resort Hotel | 0            | 342          | 2015         | July         | 27           | 1            | 0            | 0            | 2            | ...          | No Deposit   | NULL         | NULL         | 0            | Transient    |  0           | 0            | 0            | Check-Out    | 2015-07-01   |\n",
       "| Resort Hotel | 0            | 737          | 2015         | July         | 27           | 1            | 0            | 0            | 2            | ...          | No Deposit   | NULL         | NULL         | 0            | Transient    |  0           | 0            | 0            | Check-Out    | 2015-07-01   |\n",
       "| Resort Hotel | 0            |   7          | 2015         | July         | 27           | 1            | 0            | 1            | 1            | ...          | No Deposit   | NULL         | NULL         | 0            | Transient    | 75           | 0            | 0            | Check-Out    | 2015-07-02   |\n",
       "| Resort Hotel | 0            |  13          | 2015         | July         | 27           | 1            | 0            | 1            | 1            | ...          | No Deposit   | 304          | NULL         | 0            | Transient    | 75           | 0            | 0            | Check-Out    | 2015-07-02   |\n",
       "| Resort Hotel | 0            |  14          | 2015         | July         | 27           | 1            | 0            | 2            | 2            | ...          | No Deposit   | 240          | NULL         | 0            | Transient    | 98           | 0            | 1            | Check-Out    | 2015-07-03   |\n",
       "| Resort Hotel | 0            |  14          | 2015         | July         | 27           | 1            | 0            | 2            | 2            | ...          | No Deposit   | 240          | NULL         | 0            | Transient    | 98           | 0            | 1            | Check-Out    | 2015-07-03   |\n",
       "\n"
      ],
      "text/plain": [
       "  hotel        is_canceled lead_time arrival_date_year arrival_date_month\n",
       "1 Resort Hotel 0           342       2015              July              \n",
       "2 Resort Hotel 0           737       2015              July              \n",
       "3 Resort Hotel 0             7       2015              July              \n",
       "4 Resort Hotel 0            13       2015              July              \n",
       "5 Resort Hotel 0            14       2015              July              \n",
       "6 Resort Hotel 0            14       2015              July              \n",
       "  arrival_date_week_number arrival_date_day_of_month stays_in_weekend_nights\n",
       "1 27                       1                         0                      \n",
       "2 27                       1                         0                      \n",
       "3 27                       1                         0                      \n",
       "4 27                       1                         0                      \n",
       "5 27                       1                         0                      \n",
       "6 27                       1                         0                      \n",
       "  stays_in_week_nights adults ... deposit_type agent company\n",
       "1 0                    2      ... No Deposit   NULL  NULL   \n",
       "2 0                    2      ... No Deposit   NULL  NULL   \n",
       "3 1                    1      ... No Deposit   NULL  NULL   \n",
       "4 1                    1      ... No Deposit   304   NULL   \n",
       "5 2                    2      ... No Deposit   240   NULL   \n",
       "6 2                    2      ... No Deposit   240   NULL   \n",
       "  days_in_waiting_list customer_type adr required_car_parking_spaces\n",
       "1 0                    Transient      0  0                          \n",
       "2 0                    Transient      0  0                          \n",
       "3 0                    Transient     75  0                          \n",
       "4 0                    Transient     75  0                          \n",
       "5 0                    Transient     98  0                          \n",
       "6 0                    Transient     98  0                          \n",
       "  total_of_special_requests reservation_status reservation_status_date\n",
       "1 0                         Check-Out          2015-07-01             \n",
       "2 0                         Check-Out          2015-07-01             \n",
       "3 0                         Check-Out          2015-07-02             \n",
       "4 0                         Check-Out          2015-07-02             \n",
       "5 1                         Check-Out          2015-07-03             \n",
       "6 1                         Check-Out          2015-07-03             "
      ]
     },
     "metadata": {},
     "output_type": "display_data"
    }
   ],
   "source": [
    "head(Hotel)"
   ]
  },
  {
   "cell_type": "markdown",
   "metadata": {},
   "source": [
    "Nun berechnen wir, wieviele Gäste insgesamt pro Monat im Resort Hotel Übernachtet haben."
   ]
  },
  {
   "cell_type": "code",
   "execution_count": 178,
   "metadata": {},
   "outputs": [
    {
     "data": {
      "text/html": [
       "<table>\n",
       "<thead><tr><th scope=col>arrival_date_year</th><th scope=col>arrival_date_month</th><th scope=col>Gästezahl</th></tr></thead>\n",
       "<tbody>\n",
       "\t<tr><td>2015     </td><td>July     </td><td>2116     </td></tr>\n",
       "\t<tr><td>2015     </td><td>August   </td><td>2119     </td></tr>\n",
       "\t<tr><td>2015     </td><td>September</td><td>1963     </td></tr>\n",
       "\t<tr><td>2015     </td><td>October  </td><td>2060     </td></tr>\n",
       "\t<tr><td>2015     </td><td>November </td><td>1504     </td></tr>\n",
       "\t<tr><td>2015     </td><td>December </td><td>1715     </td></tr>\n",
       "\t<tr><td>2016     </td><td>January  </td><td>1276     </td></tr>\n",
       "\t<tr><td>2016     </td><td>February </td><td>1944     </td></tr>\n",
       "\t<tr><td>2016     </td><td>March    </td><td>2507     </td></tr>\n",
       "\t<tr><td>2016     </td><td>April    </td><td>2324     </td></tr>\n",
       "\t<tr><td>2016     </td><td>May      </td><td>2408     </td></tr>\n",
       "\t<tr><td>2016     </td><td>June     </td><td>1889     </td></tr>\n",
       "\t<tr><td>2016     </td><td>July     </td><td>1985     </td></tr>\n",
       "\t<tr><td>2016     </td><td>August   </td><td>2266     </td></tr>\n",
       "\t<tr><td>2016     </td><td>September</td><td>2043     </td></tr>\n",
       "\t<tr><td>2016     </td><td>October  </td><td>2559     </td></tr>\n",
       "\t<tr><td>2016     </td><td>November </td><td>1844     </td></tr>\n",
       "\t<tr><td>2016     </td><td>December </td><td>1859     </td></tr>\n",
       "\t<tr><td>2017     </td><td>January  </td><td>1786     </td></tr>\n",
       "\t<tr><td>2017     </td><td>February </td><td>2122     </td></tr>\n",
       "\t<tr><td>2017     </td><td>March    </td><td>1917     </td></tr>\n",
       "\t<tr><td>2017     </td><td>April    </td><td>2149     </td></tr>\n",
       "\t<tr><td>2017     </td><td>May      </td><td>2226     </td></tr>\n",
       "\t<tr><td>2017     </td><td>August   </td><td>2255     </td></tr>\n",
       "\t<tr><td>2017     </td><td>July     </td><td>2210     </td></tr>\n",
       "\t<tr><td>2017     </td><td>June     </td><td>1978     </td></tr>\n",
       "</tbody>\n",
       "</table>\n"
      ],
      "text/latex": [
       "\\begin{tabular}{r|lll}\n",
       " arrival\\_date\\_year & arrival\\_date\\_month & Gästezahl\\\\\n",
       "\\hline\n",
       "\t 2015      & July      & 2116     \\\\\n",
       "\t 2015      & August    & 2119     \\\\\n",
       "\t 2015      & September & 1963     \\\\\n",
       "\t 2015      & October   & 2060     \\\\\n",
       "\t 2015      & November  & 1504     \\\\\n",
       "\t 2015      & December  & 1715     \\\\\n",
       "\t 2016      & January   & 1276     \\\\\n",
       "\t 2016      & February  & 1944     \\\\\n",
       "\t 2016      & March     & 2507     \\\\\n",
       "\t 2016      & April     & 2324     \\\\\n",
       "\t 2016      & May       & 2408     \\\\\n",
       "\t 2016      & June      & 1889     \\\\\n",
       "\t 2016      & July      & 1985     \\\\\n",
       "\t 2016      & August    & 2266     \\\\\n",
       "\t 2016      & September & 2043     \\\\\n",
       "\t 2016      & October   & 2559     \\\\\n",
       "\t 2016      & November  & 1844     \\\\\n",
       "\t 2016      & December  & 1859     \\\\\n",
       "\t 2017      & January   & 1786     \\\\\n",
       "\t 2017      & February  & 2122     \\\\\n",
       "\t 2017      & March     & 1917     \\\\\n",
       "\t 2017      & April     & 2149     \\\\\n",
       "\t 2017      & May       & 2226     \\\\\n",
       "\t 2017      & August    & 2255     \\\\\n",
       "\t 2017      & July      & 2210     \\\\\n",
       "\t 2017      & June      & 1978     \\\\\n",
       "\\end{tabular}\n"
      ],
      "text/markdown": [
       "\n",
       "| arrival_date_year | arrival_date_month | Gästezahl |\n",
       "|---|---|---|\n",
       "| 2015      | July      | 2116      |\n",
       "| 2015      | August    | 2119      |\n",
       "| 2015      | September | 1963      |\n",
       "| 2015      | October   | 2060      |\n",
       "| 2015      | November  | 1504      |\n",
       "| 2015      | December  | 1715      |\n",
       "| 2016      | January   | 1276      |\n",
       "| 2016      | February  | 1944      |\n",
       "| 2016      | March     | 2507      |\n",
       "| 2016      | April     | 2324      |\n",
       "| 2016      | May       | 2408      |\n",
       "| 2016      | June      | 1889      |\n",
       "| 2016      | July      | 1985      |\n",
       "| 2016      | August    | 2266      |\n",
       "| 2016      | September | 2043      |\n",
       "| 2016      | October   | 2559      |\n",
       "| 2016      | November  | 1844      |\n",
       "| 2016      | December  | 1859      |\n",
       "| 2017      | January   | 1786      |\n",
       "| 2017      | February  | 2122      |\n",
       "| 2017      | March     | 1917      |\n",
       "| 2017      | April     | 2149      |\n",
       "| 2017      | May       | 2226      |\n",
       "| 2017      | August    | 2255      |\n",
       "| 2017      | July      | 2210      |\n",
       "| 2017      | June      | 1978      |\n",
       "\n"
      ],
      "text/plain": [
       "   arrival_date_year arrival_date_month Gästezahl\n",
       "1  2015              July               2116     \n",
       "2  2015              August             2119     \n",
       "3  2015              September          1963     \n",
       "4  2015              October            2060     \n",
       "5  2015              November           1504     \n",
       "6  2015              December           1715     \n",
       "7  2016              January            1276     \n",
       "8  2016              February           1944     \n",
       "9  2016              March              2507     \n",
       "10 2016              April              2324     \n",
       "11 2016              May                2408     \n",
       "12 2016              June               1889     \n",
       "13 2016              July               1985     \n",
       "14 2016              August             2266     \n",
       "15 2016              September          2043     \n",
       "16 2016              October            2559     \n",
       "17 2016              November           1844     \n",
       "18 2016              December           1859     \n",
       "19 2017              January            1786     \n",
       "20 2017              February           2122     \n",
       "21 2017              March              1917     \n",
       "22 2017              April              2149     \n",
       "23 2017              May                2226     \n",
       "24 2017              August             2255     \n",
       "25 2017              July               2210     \n",
       "26 2017              June               1978     "
      ]
     },
     "metadata": {},
     "output_type": "display_data"
    }
   ],
   "source": [
    "Hotel[hotel == \"Resort Hotel\" &  reservation_status == \"Check-Out\",\n",
    "                      .(Gästezahl = sum(adults)), by = list( arrival_date_year, arrival_date_month)]\n"
   ]
  },
  {
   "cell_type": "code",
   "execution_count": 318,
   "metadata": {},
   "outputs": [
    {
     "data": {
      "image/png": "[encoded data removed]",
      "text/plain": [
       "Plot with title \"Gäste pro Monat\""
      ]
     },
     "metadata": {},
     "output_type": "display_data"
    }
   ],
   "source": [
    "\n",
    "barplot(table(Hotel[hotel == \"Resort Hotel\" &  reservation_status == \"Check-Out\",\n",
    "                    list(adults, arrival_date_month)]),border = NA, \n",
    "        col = \"lightblue\", ylab = \"Gästezahl\",\n",
    "        main = (\"Gäste pro Monat\"), las = 2, ylim = c(0,5000))"
   ]
  },
  {
   "cell_type": "code",
   "execution_count": 313,
   "metadata": {},
   "outputs": [
    {
     "data": {
      "image/png": "[encoded data removed]",
      "text/plain": [
       "Plot with title \"Gäste pro Jahr\""
      ]
     },
     "metadata": {},
     "output_type": "display_data"
    }
   ],
   "source": [
    "barplot(table(Hotel[hotel == \"Resort Hotel\" &  reservation_status == \"Check-Out\",\n",
    "                    list(adults, arrival_date_year)]),border = NA, ylab = \"Gästezahl\",\n",
    "        main = (\"Gäste pro Jahr\"), \n",
    "        las = 2, cex.axis = 0.7, ylim = c(0,20000), col = \"orange\")\n"
   ]
  }
 ],
 "metadata": {
  "celltoolbar": "Slideshow",
  "kernelspec": {
   "display_name": "R",
   "language": "R",
   "name": "ir"
  },
  "language_info": {
   "codemirror_mode": "r",
   "file_extension": ".r",
   "mimetype": "text/x-r-source",
   "name": "R",
   "pygments_lexer": "r",
   "version": "3.6.1"
  }
 },
 "nbformat": 4,
 "nbformat_minor": 4
}
